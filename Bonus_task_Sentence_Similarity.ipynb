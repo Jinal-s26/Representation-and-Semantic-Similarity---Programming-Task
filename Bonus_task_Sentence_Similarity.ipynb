{
 "cells": [
  {
   "cell_type": "markdown",
   "metadata": {},
   "source": [
    "## Sentence Similarity \n",
    "\n",
    "### Zero short setting."
   ]
  },
  {
   "cell_type": "markdown",
   "metadata": {},
   "source": [
    "ChatGPT"
   ]
  },
  {
   "cell_type": "code",
   "execution_count": 1,
   "metadata": {},
   "outputs": [
    {
     "name": "stdout",
     "output_type": "stream",
     "text": [
      "0.5\n",
      "0.2\n",
      "0.6\n",
      "0.5\n",
      "                                       sentence Pair  Similarity Score\n",
      "0    The cat sat on the mat - The dog lay on the rug               0.5\n",
      "1  A bird chirped in the tree - The sun shone bri...               0.2\n",
      "2  She played the piano beautifully - He sang a s...               0.6\n",
      "3  The children ran and played in the park - The ...               0.5\n"
     ]
    }
   ],
   "source": [
    "import openai\n",
    "import pandas as pd\n",
    "\n",
    "\n",
    "openai.api_key = \"API-KEY\"\n",
    "\n",
    "\n",
    "sentences = [\n",
    "    (\"The cat sat on the mat\", \"The dog lay on the rug\"),\n",
    "    (\"A bird chirped in the tree\", \"The sun shone brightly in the sky\"),\n",
    "    (\"She played the piano beautifully\", \"He sang a song loudly\"),\n",
    "    (\"The children ran and played in the park\", \"The adults walked and talked in the garden\")\n",
    "]\n",
    "\n",
    "def compute_sentence_similarity(sentences):\n",
    "    similarity_scores = []\n",
    "    for sentence1, sentence2 in sentences:\n",
    "        \n",
    "        prompt = f\"sentence 1: {sentence1}\\nsentence 2: {sentence2}\\nHow similar are these sentences on a scale from 0 to 1? Provide a numerical similarity score. Your output should only give similarity score in float.\"\n",
    "       \n",
    "        response = openai.ChatCompletion.create(\n",
    "            model=\"gpt-3.5-turbo\",  # Using the turbo model\n",
    "            messages=[\n",
    "                {\"role\": \"system\", \"content\": \"You are an AI language model.\"},\n",
    "                {\"role\": \"user\", \"content\": prompt}\n",
    "            ]\n",
    "        )\n",
    "        \n",
    "        similarity_score = response.choices[0].message[\"content\"].strip()\n",
    "        print(similarity_score)\n",
    "        try:\n",
    "            similarity_score = float(similarity_score)\n",
    "        except ValueError:\n",
    "            similarity_score = 0.0  # Default to 0.0 if parsing fails\n",
    "        similarity_scores.append(similarity_score)\n",
    "    return similarity_scores\n",
    "\n",
    "\n",
    "similarity_scores = compute_sentence_similarity(sentences)\n",
    "\n",
    "\n",
    "results_df = pd.DataFrame({\"sentence Pair\": [f\"{sentence[0]} - {sentence[1]}\" for sentence in sentences],\n",
    "                           \"Similarity Score\": similarity_scores})\n",
    "print(results_df)"
   ]
  },
  {
   "cell_type": "markdown",
   "metadata": {},
   "source": [
    "Bard"
   ]
  },
  {
   "cell_type": "code",
   "execution_count": 2,
   "metadata": {},
   "outputs": [
    {
     "name": "stdout",
     "output_type": "stream",
     "text": [
      "                                       sentence Pair  Similarity Score\n",
      "0    The cat sat on the mat - The dog lay on the rug              0.75\n",
      "1  A bird chirped in the tree - The sun shone bri...              0.00\n",
      "2  She played the piano beautifully - He sang a s...              0.25\n",
      "3  The children ran and played in the park - The ...              0.30\n"
     ]
    }
   ],
   "source": [
    "import os\n",
    "from dotenv import load_dotenv\n",
    "import google.generativeai as genai\n",
    "import pandas as pd\n",
    "\n",
    "load_dotenv()\n",
    "api_key = os.getenv(\"API_KEY\")\n",
    "\n",
    "genai.configure(api_key=api_key)\n",
    "\n",
    "\n",
    "sentences = [\n",
    "    (\"The cat sat on the mat\", \"The dog lay on the rug\"),\n",
    "    (\"A bird chirped in the tree\", \"The sun shone brightly in the sky\"),\n",
    "    (\"She played the piano beautifully\", \"He sang a song loudly\"),\n",
    "    (\"The children ran and played in the park\", \"The adults walked and talked in the garden\")\n",
    "]\n",
    "\n",
    "def compute_sentence_similarity(sentences):   # Function to compute similarity scores for sentences\n",
    "    similarity_scores = []\n",
    "    for sentence1, sentence2 in sentences:\n",
    "        prompt = f\"How similar are the sentences '{sentence1}' and '{sentence2}'? Provide a similarity score between 0 and 1.\"\n",
    "        response = genai.generate_text(prompt=prompt)\n",
    "        output = response.candidates[0]['output']\n",
    "        try:\n",
    "            similarity_score = float(output.strip())\n",
    "        except ValueError:\n",
    "            similarity_score = 0.0 \n",
    "        similarity_scores.append(similarity_score)\n",
    "    return similarity_scores\n",
    "\n",
    "similarity_scores = compute_sentence_similarity(sentences)\n",
    "\n",
    "results_df = pd.DataFrame({\"sentence Pair\": [f\"{sentence[0]} - {sentence[1]}\" for sentence in sentences],\n",
    "                           \"Similarity Score\": similarity_scores})\n",
    "print(results_df)\n"
   ]
  },
  {
   "cell_type": "markdown",
   "metadata": {},
   "source": [
    "`all-mpnet-base-v2` from the Sentence Transformers library."
   ]
  },
  {
   "cell_type": "code",
   "execution_count": 3,
   "metadata": {},
   "outputs": [
    {
     "name": "stderr",
     "output_type": "stream",
     "text": [
      "/home/fiftyfive/.local/lib/python3.8/site-packages/sentence_transformers/cross_encoder/CrossEncoder.py:11: TqdmWarning: IProgress not found. Please update jupyter and ipywidgets. See https://ipywidgets.readthedocs.io/en/stable/user_install.html\n",
      "  from tqdm.autonotebook import tqdm, trange\n",
      "2024-06-06 19:27:26.885518: I tensorflow/core/util/port.cc:110] oneDNN custom operations are on. You may see slightly different numerical results due to floating-point round-off errors from different computation orders. To turn them off, set the environment variable `TF_ENABLE_ONEDNN_OPTS=0`.\n",
      "2024-06-06 19:27:26.886830: I tensorflow/tsl/cuda/cudart_stub.cc:28] Could not find cuda drivers on your machine, GPU will not be used.\n",
      "2024-06-06 19:27:26.914936: I tensorflow/core/platform/cpu_feature_guard.cc:182] This TensorFlow binary is optimized to use available CPU instructions in performance-critical operations.\n",
      "To enable the following instructions: AVX2 AVX_VNNI FMA, in other operations, rebuild TensorFlow with the appropriate compiler flags.\n",
      "2024-06-06 19:27:27.574152: W tensorflow/compiler/tf2tensorrt/utils/py_utils.cc:38] TF-TRT Warning: Could not find TensorRT\n",
      "/home/fiftyfive/.local/lib/python3.8/site-packages/huggingface_hub/file_download.py:1132: FutureWarning: `resume_download` is deprecated and will be removed in version 1.0.0. Downloads always resume when possible. If you want to force a new download, use `force_download=True`.\n",
      "  warnings.warn(\n"
     ]
    },
    {
     "name": "stdout",
     "output_type": "stream",
     "text": [
      "Similarity Score (sentence: 'The cat sat on the mat' vs 'The dog lay on the rug'): 0.48438724875450134\n",
      "Similarity Score (sentence: 'A bird chirped in the tree' vs 'The sun shone brightly in the sky'): 0.2539435625076294\n",
      "Similarity Score (sentence: 'She played the piano beautifully' vs 'He sang a song loudly'): 0.2710907757282257\n",
      "Similarity Score (sentence: 'The children ran and played in the park' vs 'The adults walked and talked in the garden'): 0.1723189651966095\n"
     ]
    }
   ],
   "source": [
    "from sentence_transformers import SentenceTransformer, util\n",
    "\n",
    "\n",
    "model = SentenceTransformer('all-mpnet-base-v2')\n",
    "\n",
    "\n",
    "sentences = [\n",
    "    (\"The cat sat on the mat\", \"The dog lay on the rug\"),\n",
    "    (\"A bird chirped in the tree\", \"The sun shone brightly in the sky\"),\n",
    "    (\"She played the piano beautifully\", \"He sang a song loudly\"),\n",
    "    (\"The children ran and played in the park\", \"The adults walked and talked in the garden\")\n",
    "]\n",
    "\n",
    "for sentence1, sentence2 in sentences:\n",
    "  sentence1_embedding = model.encode(sentence1)\n",
    "  sentence2_embedding = model.encode(sentence2)\n",
    "  similarity = util.pytorch_cos_sim(sentence1_embedding, sentence2_embedding).item()\n",
    "  print(f\"Similarity Score (sentence: '{sentence1}' vs '{sentence2}'): {similarity}\")\n"
   ]
  },
  {
   "cell_type": "markdown",
   "metadata": {},
   "source": [
    "## Few Short Editing"
   ]
  },
  {
   "cell_type": "markdown",
   "metadata": {},
   "source": [
    "ChatGPT"
   ]
  },
  {
   "cell_type": "code",
   "execution_count": 4,
   "metadata": {},
   "outputs": [],
   "source": [
    "import openai\n",
    "import pandas as pd\n",
    "\n",
    "openai.api_key = \"API-KEY\"\n",
    "\n",
    "sentences_with_scores = [\n",
    "    ((\"The newly formed camp is bustling with activity.\", \"The recently made encampment is lively.\"), 0.8),\n",
    "    ((\"One data point cannot represent the entire population.\", \"A particular statistic may not reflect the overall trend.\"), 0.6),\n",
    "    ((\"The particular structure of the building is unique.\", \"The specific edifice stands out in the skyline.\"), 0.7),\n",
    "    ((\"The involved people are dedicated to the cause.\", \"The participating individuals show great commitment.\"), 0.9)\n",
    "]\n",
    "\n",
    "def compute_sentence_similarity(sentences_with_scores):\n",
    "    similarity_scores = []\n",
    "    for (sentence1, sentence2), true_similarity_score in sentences_with_scores:\n",
    "       \n",
    "        prompt = f\"sentence 1: {sentence1}\\nsentence 2: {sentence2}\\nHow similar are these sentences on a scale from 0 to 1? Provide a numerical similarity score. Your output should only give similarity score in float.\"\n",
    "       \n",
    "        response = openai.ChatCompletion.create(\n",
    "            model=\"gpt-3.5-turbo\",  # Using the turbo model\n",
    "            messages=[\n",
    "                {\"role\": \"system\", \"content\": \"You are an AI language model.\"},\n",
    "                {\"role\": \"user\", \"content\": prompt}\n",
    "            ]\n",
    "        )\n",
    "        \n",
    "        similarity_score = response.choices[0].message[\"content\"].strip()\n",
    "        try:\n",
    "            similarity_score = float(similarity_score)\n",
    "        except ValueError:\n",
    "            similarity_score = 0.0  # Default to 0.0 if parsing fails\n",
    "        similarity_scores.append(similarity_score)\n",
    "    return similarity_scores\n",
    "\n",
    "\n",
    "similarity_scores = compute_sentence_similarity(sentences_with_scores)\n",
    "\n",
    "results_df = pd.DataFrame({\"sentence Pair\": [f\"{sentence[0]} - {sentence[1]}\" for sentence, _ in sentences_with_scores],\n",
    "                           \"True Similarity Score\": [score for _, score in sentences_with_scores],\n",
    "                           \"Computed Similarity Score\": similarity_scores})\n"
   ]
  },
  {
   "cell_type": "code",
   "execution_count": 5,
   "metadata": {},
   "outputs": [
    {
     "data": {
      "text/html": [
       "<div>\n",
       "<style scoped>\n",
       "    .dataframe tbody tr th:only-of-type {\n",
       "        vertical-align: middle;\n",
       "    }\n",
       "\n",
       "    .dataframe tbody tr th {\n",
       "        vertical-align: top;\n",
       "    }\n",
       "\n",
       "    .dataframe thead th {\n",
       "        text-align: right;\n",
       "    }\n",
       "</style>\n",
       "<table border=\"1\" class=\"dataframe\">\n",
       "  <thead>\n",
       "    <tr style=\"text-align: right;\">\n",
       "      <th></th>\n",
       "      <th>sentence Pair</th>\n",
       "      <th>True Similarity Score</th>\n",
       "      <th>Computed Similarity Score</th>\n",
       "    </tr>\n",
       "  </thead>\n",
       "  <tbody>\n",
       "    <tr>\n",
       "      <th>0</th>\n",
       "      <td>The newly formed camp is bustling with activit...</td>\n",
       "      <td>0.8</td>\n",
       "      <td>0.75</td>\n",
       "    </tr>\n",
       "    <tr>\n",
       "      <th>1</th>\n",
       "      <td>One data point cannot represent the entire pop...</td>\n",
       "      <td>0.6</td>\n",
       "      <td>0.70</td>\n",
       "    </tr>\n",
       "    <tr>\n",
       "      <th>2</th>\n",
       "      <td>The particular structure of the building is un...</td>\n",
       "      <td>0.7</td>\n",
       "      <td>0.70</td>\n",
       "    </tr>\n",
       "    <tr>\n",
       "      <th>3</th>\n",
       "      <td>The involved people are dedicated to the cause...</td>\n",
       "      <td>0.9</td>\n",
       "      <td>0.80</td>\n",
       "    </tr>\n",
       "  </tbody>\n",
       "</table>\n",
       "</div>"
      ],
      "text/plain": [
       "                                       sentence Pair  True Similarity Score  \\\n",
       "0  The newly formed camp is bustling with activit...                    0.8   \n",
       "1  One data point cannot represent the entire pop...                    0.6   \n",
       "2  The particular structure of the building is un...                    0.7   \n",
       "3  The involved people are dedicated to the cause...                    0.9   \n",
       "\n",
       "   Computed Similarity Score  \n",
       "0                       0.75  \n",
       "1                       0.70  \n",
       "2                       0.70  \n",
       "3                       0.80  "
      ]
     },
     "execution_count": 5,
     "metadata": {},
     "output_type": "execute_result"
    }
   ],
   "source": [
    "results_df"
   ]
  },
  {
   "cell_type": "markdown",
   "metadata": {},
   "source": [
    "Bard"
   ]
  },
  {
   "cell_type": "code",
   "execution_count": 6,
   "metadata": {},
   "outputs": [],
   "source": [
    "import os\n",
    "from dotenv import load_dotenv\n",
    "import google.generativeai as genai\n",
    "import pandas as pd\n",
    "\n",
    "load_dotenv()\n",
    "api_key = os.getenv(\"API_KEY\")\n",
    "\n",
    "genai.configure(api_key=api_key)\n",
    "\n",
    "sentences_with_scores = [\n",
    "    ((\"The newly formed camp is bustling with activity.\", \"The recently made encampment is lively.\"), 0.8),\n",
    "    ((\"One data point cannot represent the entire population.\", \"A particular statistic may not reflect the overall trend.\"), 0.6),\n",
    "    ((\"The particular structure of the building is unique.\", \"The specific edifice stands out in the skyline.\"), 0.7),\n",
    "    ((\"The involved people are dedicated to the cause.\", \"The participating individuals show great commitment.\"), 0.9)\n",
    "]\n",
    "\n",
    "def compute_sentence_similarity(sentences_with_scores):   # Function to compute similarity scores for sentences\n",
    "    similarity_scores = []\n",
    "    for (sentence1, sentence2), true_similarity_score in sentences_with_scores:\n",
    "        prompt = f\"How similar are the sentences '{sentence1}' and '{sentence2}'? Provide a similarity score between 0 and 1.\"\n",
    "        response = genai.generate_text(prompt=prompt)\n",
    "        output = response.candidates[0]['output']\n",
    "        try:\n",
    "            similarity_score = float(output.strip())\n",
    "        except ValueError:\n",
    "            similarity_score = 0.0 \n",
    "        similarity_scores.append(similarity_score)\n",
    "    return similarity_scores\n",
    "\n",
    "\n",
    "similarity_scores = compute_sentence_similarity(sentences_with_scores)\n",
    "\n",
    "results_df = pd.DataFrame({\"sentence Pair\": [f\"{sentence[0]} - {sentence[1]}\" for sentence, _ in sentences_with_scores],\n",
    "                           \"True Similarity Score\": [score for _, score in sentences_with_scores],\n",
    "                           \"Computed Similarity Score\": similarity_scores})\n"
   ]
  },
  {
   "cell_type": "code",
   "execution_count": 7,
   "metadata": {},
   "outputs": [
    {
     "data": {
      "text/html": [
       "<div>\n",
       "<style scoped>\n",
       "    .dataframe tbody tr th:only-of-type {\n",
       "        vertical-align: middle;\n",
       "    }\n",
       "\n",
       "    .dataframe tbody tr th {\n",
       "        vertical-align: top;\n",
       "    }\n",
       "\n",
       "    .dataframe thead th {\n",
       "        text-align: right;\n",
       "    }\n",
       "</style>\n",
       "<table border=\"1\" class=\"dataframe\">\n",
       "  <thead>\n",
       "    <tr style=\"text-align: right;\">\n",
       "      <th></th>\n",
       "      <th>sentence Pair</th>\n",
       "      <th>True Similarity Score</th>\n",
       "      <th>Computed Similarity Score</th>\n",
       "    </tr>\n",
       "  </thead>\n",
       "  <tbody>\n",
       "    <tr>\n",
       "      <th>0</th>\n",
       "      <td>The newly formed camp is bustling with activit...</td>\n",
       "      <td>0.8</td>\n",
       "      <td>0.80</td>\n",
       "    </tr>\n",
       "    <tr>\n",
       "      <th>1</th>\n",
       "      <td>One data point cannot represent the entire pop...</td>\n",
       "      <td>0.6</td>\n",
       "      <td>0.80</td>\n",
       "    </tr>\n",
       "    <tr>\n",
       "      <th>2</th>\n",
       "      <td>The particular structure of the building is un...</td>\n",
       "      <td>0.7</td>\n",
       "      <td>0.50</td>\n",
       "    </tr>\n",
       "    <tr>\n",
       "      <th>3</th>\n",
       "      <td>The involved people are dedicated to the cause...</td>\n",
       "      <td>0.9</td>\n",
       "      <td>0.85</td>\n",
       "    </tr>\n",
       "  </tbody>\n",
       "</table>\n",
       "</div>"
      ],
      "text/plain": [
       "                                       sentence Pair  True Similarity Score  \\\n",
       "0  The newly formed camp is bustling with activit...                    0.8   \n",
       "1  One data point cannot represent the entire pop...                    0.6   \n",
       "2  The particular structure of the building is un...                    0.7   \n",
       "3  The involved people are dedicated to the cause...                    0.9   \n",
       "\n",
       "   Computed Similarity Score  \n",
       "0                       0.80  \n",
       "1                       0.80  \n",
       "2                       0.50  \n",
       "3                       0.85  "
      ]
     },
     "execution_count": 7,
     "metadata": {},
     "output_type": "execute_result"
    }
   ],
   "source": [
    "results_df"
   ]
  },
  {
   "cell_type": "markdown",
   "metadata": {},
   "source": [
    "`all-mpnet-base-v2` from the Sentence Transformers library."
   ]
  },
  {
   "cell_type": "code",
   "execution_count": 8,
   "metadata": {},
   "outputs": [
    {
     "name": "stderr",
     "output_type": "stream",
     "text": [
      "/home/fiftyfive/.local/lib/python3.8/site-packages/huggingface_hub/file_download.py:1132: FutureWarning: `resume_download` is deprecated and will be removed in version 1.0.0. Downloads always resume when possible. If you want to force a new download, use `force_download=True`.\n",
      "  warnings.warn(\n"
     ]
    },
    {
     "name": "stdout",
     "output_type": "stream",
     "text": [
      "sentence Pair: 'The newly formed camp is bustling with activity.' - 'The recently made encampment is lively.'\n",
      "True Similarity Score: 0.8\n",
      "Computed Similarity Score: 0.7742079496383667\n",
      "\n",
      "sentence Pair: 'One data point cannot represent the entire population.' - 'A particular statistic may not reflect the overall trend.'\n",
      "True Similarity Score: 0.6\n",
      "Computed Similarity Score: 0.6612098217010498\n",
      "\n",
      "sentence Pair: 'The particular structure of the building is unique.' - 'The specific edifice stands out in the skyline.'\n",
      "True Similarity Score: 0.7\n",
      "Computed Similarity Score: 0.6238105893135071\n",
      "\n",
      "sentence Pair: 'The involved people are dedicated to the cause.' - 'The participating individuals show great commitment.'\n",
      "True Similarity Score: 0.9\n",
      "Computed Similarity Score: 0.8070569038391113\n",
      "\n"
     ]
    }
   ],
   "source": [
    "from sentence_transformers import SentenceTransformer, util\n",
    "\n",
    "\n",
    "model = SentenceTransformer('all-mpnet-base-v2')\n",
    "\n",
    "\n",
    "sentences_with_scores = [\n",
    "    ((\"The newly formed camp is bustling with activity.\", \"The recently made encampment is lively.\"), 0.8),\n",
    "    ((\"One data point cannot represent the entire population.\", \"A particular statistic may not reflect the overall trend.\"), 0.6),\n",
    "    ((\"The particular structure of the building is unique.\", \"The specific edifice stands out in the skyline.\"), 0.7),\n",
    "    ((\"The involved people are dedicated to the cause.\", \"The participating individuals show great commitment.\"), 0.9)\n",
    "]\n",
    "\n",
    "for (sentence1, sentence2), true_similarity_score in sentences_with_scores:\n",
    "    sentence1_embedding = model.encode(sentence1)\n",
    "    sentence2_embedding = model.encode(sentence2)\n",
    "    similarity = util.pytorch_cos_sim(sentence1_embedding, sentence2_embedding).item()\n",
    "    print(f\"sentence Pair: '{sentence1}' - '{sentence2}'\")\n",
    "    print(f\"True Similarity Score: {true_similarity_score}\")\n",
    "    print(f\"Computed Similarity Score: {similarity}\\n\")\n"
   ]
  }
 ],
 "metadata": {
  "kernelspec": {
   "display_name": "Python 3",
   "language": "python",
   "name": "python3"
  },
  "language_info": {
   "codemirror_mode": {
    "name": "ipython",
    "version": 3
   },
   "file_extension": ".py",
   "mimetype": "text/x-python",
   "name": "python",
   "nbconvert_exporter": "python",
   "pygments_lexer": "ipython3",
   "version": "3.8.10"
  }
 },
 "nbformat": 4,
 "nbformat_minor": 2
}
